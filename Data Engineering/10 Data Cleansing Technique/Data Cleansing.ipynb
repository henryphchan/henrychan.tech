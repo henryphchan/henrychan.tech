{
 "cells": [
  {
   "cell_type": "markdown",
   "metadata": {},
   "source": [
    "# 10 Data Cleansing Technique for Begineers"
   ]
  },
  {
   "cell_type": "markdown",
   "metadata": {},
   "source": [
    "## Step 0: Import libraries"
   ]
  },
  {
   "cell_type": "code",
   "execution_count": 1,
   "metadata": {},
   "outputs": [],
   "source": [
    "import pandas as pd\n",
    "import numpy as np"
   ]
  },
  {
   "cell_type": "markdown",
   "metadata": {},
   "source": [
    "## Step 1: Load the dataset"
   ]
  },
  {
   "cell_type": "code",
   "execution_count": 2,
   "metadata": {},
   "outputs": [],
   "source": [
    "file_path = 'retail_dummy_dataset.csv'  # Update the path as needed\n",
    "df = pd.read_csv(file_path)"
   ]
  },
  {
   "cell_type": "code",
   "execution_count": 3,
   "metadata": {},
   "outputs": [
    {
     "name": "stdout",
     "output_type": "stream",
     "text": [
      "Initial Dataset:\n"
     ]
    },
    {
     "data": {
      "text/html": [
       "<div>\n",
       "<style scoped>\n",
       "    .dataframe tbody tr th:only-of-type {\n",
       "        vertical-align: middle;\n",
       "    }\n",
       "\n",
       "    .dataframe tbody tr th {\n",
       "        vertical-align: top;\n",
       "    }\n",
       "\n",
       "    .dataframe thead th {\n",
       "        text-align: right;\n",
       "    }\n",
       "</style>\n",
       "<table border=\"1\" class=\"dataframe\">\n",
       "  <thead>\n",
       "    <tr style=\"text-align: right;\">\n",
       "      <th></th>\n",
       "      <th>CustomerID</th>\n",
       "      <th>PurchaseDate</th>\n",
       "      <th>ProductCategory</th>\n",
       "      <th>PurchaseAmount</th>\n",
       "      <th>DiscountApplied</th>\n",
       "      <th>PaymentMethod</th>\n",
       "      <th>CustomerFeedback</th>\n",
       "    </tr>\n",
       "  </thead>\n",
       "  <tbody>\n",
       "    <tr>\n",
       "      <th>0</th>\n",
       "      <td>CUST001</td>\n",
       "      <td>2023-01-01</td>\n",
       "      <td>Grocery</td>\n",
       "      <td>NaN</td>\n",
       "      <td>0.0</td>\n",
       "      <td>Credit Card</td>\n",
       "      <td>5.0</td>\n",
       "    </tr>\n",
       "    <tr>\n",
       "      <th>1</th>\n",
       "      <td>CUST002</td>\n",
       "      <td>2023-01-02</td>\n",
       "      <td>Beauty</td>\n",
       "      <td>NaN</td>\n",
       "      <td>0.0</td>\n",
       "      <td>NaN</td>\n",
       "      <td>3.0</td>\n",
       "    </tr>\n",
       "    <tr>\n",
       "      <th>2</th>\n",
       "      <td>CUST003</td>\n",
       "      <td>2023-01-03</td>\n",
       "      <td>Electronics</td>\n",
       "      <td>940.103952</td>\n",
       "      <td>20.0</td>\n",
       "      <td>Cash</td>\n",
       "      <td>1.0</td>\n",
       "    </tr>\n",
       "    <tr>\n",
       "      <th>3</th>\n",
       "      <td>CUST003</td>\n",
       "      <td>2023-01-03</td>\n",
       "      <td>Electronics</td>\n",
       "      <td>940.103952</td>\n",
       "      <td>20.0</td>\n",
       "      <td>Cash</td>\n",
       "      <td>1.0</td>\n",
       "    </tr>\n",
       "    <tr>\n",
       "      <th>4</th>\n",
       "      <td>CUST004</td>\n",
       "      <td>2023-01-04</td>\n",
       "      <td>Grocery</td>\n",
       "      <td>NaN</td>\n",
       "      <td>10.0</td>\n",
       "      <td>NaN</td>\n",
       "      <td>2.0</td>\n",
       "    </tr>\n",
       "  </tbody>\n",
       "</table>\n",
       "</div>"
      ],
      "text/plain": [
       "  CustomerID PurchaseDate ProductCategory  PurchaseAmount  DiscountApplied   \n",
       "0    CUST001   2023-01-01         Grocery             NaN              0.0  \\\n",
       "1    CUST002   2023-01-02          Beauty             NaN              0.0   \n",
       "2    CUST003   2023-01-03     Electronics      940.103952             20.0   \n",
       "3    CUST003   2023-01-03     Electronics      940.103952             20.0   \n",
       "4    CUST004   2023-01-04         Grocery             NaN             10.0   \n",
       "\n",
       "                       PaymentMethod  CustomerFeedback  \n",
       "0            Credit Card                           5.0  \n",
       "1                                NaN               3.0  \n",
       "2                               Cash               1.0  \n",
       "3                               Cash               1.0  \n",
       "4                                NaN               2.0  "
      ]
     },
     "metadata": {},
     "output_type": "display_data"
    }
   ],
   "source": [
    "print(\"Initial Dataset:\")\n",
    "display(df.head())"
   ]
  },
  {
   "cell_type": "markdown",
   "metadata": {},
   "source": [
    "## Step 2: Converting Data Types"
   ]
  },
  {
   "cell_type": "code",
   "execution_count": 4,
   "metadata": {},
   "outputs": [
    {
     "name": "stdout",
     "output_type": "stream",
     "text": [
      "Data types before conversion:\n"
     ]
    },
    {
     "data": {
      "text/plain": [
       "CustomerID           object\n",
       "PurchaseDate         object\n",
       "ProductCategory      object\n",
       "PurchaseAmount      float64\n",
       "DiscountApplied     float64\n",
       "PaymentMethod        object\n",
       "CustomerFeedback    float64\n",
       "dtype: object"
      ]
     },
     "metadata": {},
     "output_type": "display_data"
    },
    {
     "name": "stdout",
     "output_type": "stream",
     "text": [
      "Data types after conversion:\n"
     ]
    },
    {
     "data": {
      "text/plain": [
       "CustomerID           object\n",
       "PurchaseDate         object\n",
       "ProductCategory      object\n",
       "PurchaseAmount      float64\n",
       "DiscountApplied     float64\n",
       "PaymentMethod        object\n",
       "CustomerFeedback      Int64\n",
       "dtype: object"
      ]
     },
     "metadata": {},
     "output_type": "display_data"
    }
   ],
   "source": [
    "print(\"Data types before conversion:\")\n",
    "display(df.dtypes)\n",
    "\n",
    "# Ensure CustomerFeedback is of type integer\n",
    "df['CustomerFeedback'] = df['CustomerFeedback'].astype('Int64')\n",
    "\n",
    "print(\"Data types after conversion:\")\n",
    "display(df.dtypes)"
   ]
  },
  {
   "cell_type": "markdown",
   "metadata": {},
   "source": [
    "## Step 3: Identify Missing Data"
   ]
  },
  {
   "cell_type": "code",
   "execution_count": 5,
   "metadata": {},
   "outputs": [
    {
     "name": "stdout",
     "output_type": "stream",
     "text": [
      "Missing values per column:\n"
     ]
    },
    {
     "data": {
      "text/plain": [
       "CustomerID           0\n",
       "PurchaseDate         0\n",
       "ProductCategory      0\n",
       "PurchaseAmount      14\n",
       "DiscountApplied     11\n",
       "PaymentMethod       28\n",
       "CustomerFeedback    20\n",
       "dtype: int64"
      ]
     },
     "metadata": {},
     "output_type": "display_data"
    }
   ],
   "source": [
    "print(\"Missing values per column:\")\n",
    "display(df.isnull().sum())"
   ]
  },
  {
   "cell_type": "markdown",
   "metadata": {},
   "source": [
    "## Step 4: Fill Missing Data"
   ]
  },
  {
   "cell_type": "code",
   "execution_count": 6,
   "metadata": {},
   "outputs": [
    {
     "name": "stdout",
     "output_type": "stream",
     "text": [
      "Missing values after imputation:\n"
     ]
    },
    {
     "data": {
      "text/plain": [
       "CustomerID           0\n",
       "PurchaseDate         0\n",
       "ProductCategory      0\n",
       "PurchaseAmount       0\n",
       "DiscountApplied      0\n",
       "PaymentMethod        0\n",
       "CustomerFeedback    20\n",
       "dtype: int64"
      ]
     },
     "metadata": {},
     "output_type": "display_data"
    }
   ],
   "source": [
    "# Impute missing PurchaseAmount with the median\n",
    "df['PurchaseAmount'] = df['PurchaseAmount'].fillna(df['PurchaseAmount'].median())\n",
    "\n",
    "# Impute missing DiscountApplied with 0 (assume no discount applied)\n",
    "df['DiscountApplied'] = df['DiscountApplied'].fillna(0)\n",
    "\n",
    "# Fill missing PaymentMethod with 'Unknown'\n",
    "df['PaymentMethod'] = df['PaymentMethod'].fillna('Unknown')\n",
    "\n",
    "print(\"Missing values after imputation:\")\n",
    "display(df.isnull().sum())"
   ]
  },
  {
   "cell_type": "markdown",
   "metadata": {},
   "source": [
    "## Step 5: Drop Missing Data"
   ]
  },
  {
   "cell_type": "code",
   "execution_count": 7,
   "metadata": {},
   "outputs": [
    {
     "name": "stdout",
     "output_type": "stream",
     "text": [
      "Dataset after dropping missing data:\n"
     ]
    },
    {
     "data": {
      "text/html": [
       "<div>\n",
       "<style scoped>\n",
       "    .dataframe tbody tr th:only-of-type {\n",
       "        vertical-align: middle;\n",
       "    }\n",
       "\n",
       "    .dataframe tbody tr th {\n",
       "        vertical-align: top;\n",
       "    }\n",
       "\n",
       "    .dataframe thead th {\n",
       "        text-align: right;\n",
       "    }\n",
       "</style>\n",
       "<table border=\"1\" class=\"dataframe\">\n",
       "  <thead>\n",
       "    <tr style=\"text-align: right;\">\n",
       "      <th></th>\n",
       "      <th>CustomerID</th>\n",
       "      <th>PurchaseDate</th>\n",
       "      <th>ProductCategory</th>\n",
       "      <th>PurchaseAmount</th>\n",
       "      <th>DiscountApplied</th>\n",
       "      <th>PaymentMethod</th>\n",
       "      <th>CustomerFeedback</th>\n",
       "    </tr>\n",
       "  </thead>\n",
       "  <tbody>\n",
       "    <tr>\n",
       "      <th>0</th>\n",
       "      <td>CUST001</td>\n",
       "      <td>2023-01-01</td>\n",
       "      <td>Grocery</td>\n",
       "      <td>432.836711</td>\n",
       "      <td>0.0</td>\n",
       "      <td>Credit Card</td>\n",
       "      <td>5</td>\n",
       "    </tr>\n",
       "    <tr>\n",
       "      <th>1</th>\n",
       "      <td>CUST002</td>\n",
       "      <td>2023-01-02</td>\n",
       "      <td>Beauty</td>\n",
       "      <td>432.836711</td>\n",
       "      <td>0.0</td>\n",
       "      <td>Unknown</td>\n",
       "      <td>3</td>\n",
       "    </tr>\n",
       "    <tr>\n",
       "      <th>2</th>\n",
       "      <td>CUST003</td>\n",
       "      <td>2023-01-03</td>\n",
       "      <td>Electronics</td>\n",
       "      <td>940.103952</td>\n",
       "      <td>20.0</td>\n",
       "      <td>Cash</td>\n",
       "      <td>1</td>\n",
       "    </tr>\n",
       "    <tr>\n",
       "      <th>3</th>\n",
       "      <td>CUST003</td>\n",
       "      <td>2023-01-03</td>\n",
       "      <td>Electronics</td>\n",
       "      <td>940.103952</td>\n",
       "      <td>20.0</td>\n",
       "      <td>Cash</td>\n",
       "      <td>1</td>\n",
       "    </tr>\n",
       "    <tr>\n",
       "      <th>4</th>\n",
       "      <td>CUST004</td>\n",
       "      <td>2023-01-04</td>\n",
       "      <td>Grocery</td>\n",
       "      <td>432.836711</td>\n",
       "      <td>10.0</td>\n",
       "      <td>Unknown</td>\n",
       "      <td>2</td>\n",
       "    </tr>\n",
       "  </tbody>\n",
       "</table>\n",
       "</div>"
      ],
      "text/plain": [
       "  CustomerID PurchaseDate ProductCategory  PurchaseAmount  DiscountApplied   \n",
       "0    CUST001   2023-01-01         Grocery      432.836711              0.0  \\\n",
       "1    CUST002   2023-01-02          Beauty      432.836711              0.0   \n",
       "2    CUST003   2023-01-03     Electronics      940.103952             20.0   \n",
       "3    CUST003   2023-01-03     Electronics      940.103952             20.0   \n",
       "4    CUST004   2023-01-04         Grocery      432.836711             10.0   \n",
       "\n",
       "                       PaymentMethod  CustomerFeedback  \n",
       "0            Credit Card                             5  \n",
       "1                            Unknown                 3  \n",
       "2                               Cash                 1  \n",
       "3                               Cash                 1  \n",
       "4                            Unknown                 2  "
      ]
     },
     "metadata": {},
     "output_type": "display_data"
    }
   ],
   "source": [
    "# Drop rows where CustomerFeedback is missing (since it is the target variable)\n",
    "df = df.dropna(subset=['CustomerFeedback'])\n",
    "\n",
    "print(\"Dataset after dropping missing data:\")\n",
    "display(df.head())"
   ]
  },
  {
   "cell_type": "markdown",
   "metadata": {},
   "source": [
    "## Step 6: Removing Duplicate Data"
   ]
  },
  {
   "cell_type": "code",
   "execution_count": 8,
   "metadata": {},
   "outputs": [
    {
     "name": "stdout",
     "output_type": "stream",
     "text": [
      "Number of duplicate rows: 1\n",
      "Number of rows after removing duplicates: 80\n"
     ]
    }
   ],
   "source": [
    "# Check for duplicates\n",
    "print(f\"Number of duplicate rows: {df.duplicated().sum()}\")\n",
    "\n",
    "# Remove duplicates\n",
    "df = df.drop_duplicates()\n",
    "\n",
    "print(f\"Number of rows after removing duplicates: {len(df)}\")"
   ]
  },
  {
   "cell_type": "markdown",
   "metadata": {},
   "source": [
    "## Step 7: Standardizing Data"
   ]
  },
  {
   "cell_type": "code",
   "execution_count": 9,
   "metadata": {},
   "outputs": [
    {
     "name": "stdout",
     "output_type": "stream",
     "text": [
      "Dataset after standardization:\n"
     ]
    },
    {
     "data": {
      "text/html": [
       "<div>\n",
       "<style scoped>\n",
       "    .dataframe tbody tr th:only-of-type {\n",
       "        vertical-align: middle;\n",
       "    }\n",
       "\n",
       "    .dataframe tbody tr th {\n",
       "        vertical-align: top;\n",
       "    }\n",
       "\n",
       "    .dataframe thead th {\n",
       "        text-align: right;\n",
       "    }\n",
       "</style>\n",
       "<table border=\"1\" class=\"dataframe\">\n",
       "  <thead>\n",
       "    <tr style=\"text-align: right;\">\n",
       "      <th></th>\n",
       "      <th>CustomerID</th>\n",
       "      <th>PurchaseDate</th>\n",
       "      <th>ProductCategory</th>\n",
       "      <th>PurchaseAmount</th>\n",
       "      <th>DiscountApplied</th>\n",
       "      <th>PaymentMethod</th>\n",
       "      <th>CustomerFeedback</th>\n",
       "    </tr>\n",
       "  </thead>\n",
       "  <tbody>\n",
       "    <tr>\n",
       "      <th>0</th>\n",
       "      <td>CUST001</td>\n",
       "      <td>2023-01-01</td>\n",
       "      <td>grocery</td>\n",
       "      <td>432.84</td>\n",
       "      <td>0.0</td>\n",
       "      <td>Credit Card</td>\n",
       "      <td>5</td>\n",
       "    </tr>\n",
       "    <tr>\n",
       "      <th>1</th>\n",
       "      <td>CUST002</td>\n",
       "      <td>2023-01-02</td>\n",
       "      <td>beauty</td>\n",
       "      <td>432.84</td>\n",
       "      <td>0.0</td>\n",
       "      <td>Unknown</td>\n",
       "      <td>3</td>\n",
       "    </tr>\n",
       "    <tr>\n",
       "      <th>2</th>\n",
       "      <td>CUST003</td>\n",
       "      <td>2023-01-03</td>\n",
       "      <td>electronics</td>\n",
       "      <td>940.10</td>\n",
       "      <td>20.0</td>\n",
       "      <td>Cash</td>\n",
       "      <td>1</td>\n",
       "    </tr>\n",
       "    <tr>\n",
       "      <th>4</th>\n",
       "      <td>CUST004</td>\n",
       "      <td>2023-01-04</td>\n",
       "      <td>grocery</td>\n",
       "      <td>432.84</td>\n",
       "      <td>10.0</td>\n",
       "      <td>Unknown</td>\n",
       "      <td>2</td>\n",
       "    </tr>\n",
       "    <tr>\n",
       "      <th>6</th>\n",
       "      <td>CUST006</td>\n",
       "      <td>2023-01-06</td>\n",
       "      <td>beauty</td>\n",
       "      <td>922.66</td>\n",
       "      <td>30.0</td>\n",
       "      <td>Unknown</td>\n",
       "      <td>5</td>\n",
       "    </tr>\n",
       "  </tbody>\n",
       "</table>\n",
       "</div>"
      ],
      "text/plain": [
       "  CustomerID PurchaseDate ProductCategory  PurchaseAmount  DiscountApplied   \n",
       "0    CUST001   2023-01-01         grocery          432.84              0.0  \\\n",
       "1    CUST002   2023-01-02          beauty          432.84              0.0   \n",
       "2    CUST003   2023-01-03     electronics          940.10             20.0   \n",
       "4    CUST004   2023-01-04         grocery          432.84             10.0   \n",
       "6    CUST006   2023-01-06          beauty          922.66             30.0   \n",
       "\n",
       "  PaymentMethod  CustomerFeedback  \n",
       "0   Credit Card                 5  \n",
       "1       Unknown                 3  \n",
       "2          Cash                 1  \n",
       "4       Unknown                 2  \n",
       "6       Unknown                 5  "
      ]
     },
     "metadata": {},
     "output_type": "display_data"
    }
   ],
   "source": [
    "# Standardize ProductCategory to lowercase\n",
    "df['ProductCategory'] = df['ProductCategory'].str.lower()\n",
    "\n",
    "# Strip extra spaces in PaymentMethod\n",
    "df['PaymentMethod'] = df['PaymentMethod'].str.strip()\n",
    "\n",
    "# Ensure PurchaseAmount is rounded to two decimal places\n",
    "df['PurchaseAmount'] = df['PurchaseAmount'].round(2)\n",
    "\n",
    "# Ensure DiscountApplied is rounded to two decimal places\n",
    "df['DiscountApplied'] = df['DiscountApplied'].round(2)\n",
    "\n",
    "print(\"Dataset after standardization:\")\n",
    "display(df.head())"
   ]
  },
  {
   "cell_type": "markdown",
   "metadata": {},
   "source": [
    "## Step 8: Removing Unnecessary Columns"
   ]
  },
  {
   "cell_type": "code",
   "execution_count": 10,
   "metadata": {},
   "outputs": [
    {
     "name": "stdout",
     "output_type": "stream",
     "text": [
      "Dataset after removing unnecessary columns:\n"
     ]
    },
    {
     "data": {
      "text/html": [
       "<div>\n",
       "<style scoped>\n",
       "    .dataframe tbody tr th:only-of-type {\n",
       "        vertical-align: middle;\n",
       "    }\n",
       "\n",
       "    .dataframe tbody tr th {\n",
       "        vertical-align: top;\n",
       "    }\n",
       "\n",
       "    .dataframe thead th {\n",
       "        text-align: right;\n",
       "    }\n",
       "</style>\n",
       "<table border=\"1\" class=\"dataframe\">\n",
       "  <thead>\n",
       "    <tr style=\"text-align: right;\">\n",
       "      <th></th>\n",
       "      <th>CustomerID</th>\n",
       "      <th>ProductCategory</th>\n",
       "      <th>PurchaseAmount</th>\n",
       "      <th>DiscountApplied</th>\n",
       "      <th>PaymentMethod</th>\n",
       "      <th>CustomerFeedback</th>\n",
       "    </tr>\n",
       "  </thead>\n",
       "  <tbody>\n",
       "    <tr>\n",
       "      <th>0</th>\n",
       "      <td>CUST001</td>\n",
       "      <td>grocery</td>\n",
       "      <td>432.84</td>\n",
       "      <td>0.0</td>\n",
       "      <td>Credit Card</td>\n",
       "      <td>5</td>\n",
       "    </tr>\n",
       "    <tr>\n",
       "      <th>1</th>\n",
       "      <td>CUST002</td>\n",
       "      <td>beauty</td>\n",
       "      <td>432.84</td>\n",
       "      <td>0.0</td>\n",
       "      <td>Unknown</td>\n",
       "      <td>3</td>\n",
       "    </tr>\n",
       "    <tr>\n",
       "      <th>2</th>\n",
       "      <td>CUST003</td>\n",
       "      <td>electronics</td>\n",
       "      <td>940.10</td>\n",
       "      <td>20.0</td>\n",
       "      <td>Cash</td>\n",
       "      <td>1</td>\n",
       "    </tr>\n",
       "    <tr>\n",
       "      <th>4</th>\n",
       "      <td>CUST004</td>\n",
       "      <td>grocery</td>\n",
       "      <td>432.84</td>\n",
       "      <td>10.0</td>\n",
       "      <td>Unknown</td>\n",
       "      <td>2</td>\n",
       "    </tr>\n",
       "    <tr>\n",
       "      <th>6</th>\n",
       "      <td>CUST006</td>\n",
       "      <td>beauty</td>\n",
       "      <td>922.66</td>\n",
       "      <td>30.0</td>\n",
       "      <td>Unknown</td>\n",
       "      <td>5</td>\n",
       "    </tr>\n",
       "  </tbody>\n",
       "</table>\n",
       "</div>"
      ],
      "text/plain": [
       "  CustomerID ProductCategory  PurchaseAmount  DiscountApplied PaymentMethod   \n",
       "0    CUST001         grocery          432.84              0.0   Credit Card  \\\n",
       "1    CUST002          beauty          432.84              0.0       Unknown   \n",
       "2    CUST003     electronics          940.10             20.0          Cash   \n",
       "4    CUST004         grocery          432.84             10.0       Unknown   \n",
       "6    CUST006          beauty          922.66             30.0       Unknown   \n",
       "\n",
       "   CustomerFeedback  \n",
       "0                 5  \n",
       "1                 3  \n",
       "2                 1  \n",
       "4                 2  \n",
       "6                 5  "
      ]
     },
     "metadata": {},
     "output_type": "display_data"
    }
   ],
   "source": [
    "# Remove PurchaseDate for this example\n",
    "df = df.drop(columns=['PurchaseDate'])\n",
    "\n",
    "print(\"Dataset after removing unnecessary columns:\")\n",
    "display(df.head())"
   ]
  },
  {
   "cell_type": "markdown",
   "metadata": {},
   "source": [
    "## Step 9: Binning Data"
   ]
  },
  {
   "cell_type": "code",
   "execution_count": 11,
   "metadata": {},
   "outputs": [
    {
     "name": "stdout",
     "output_type": "stream",
     "text": [
      "Dataset after binning PurchaseAmount:\n"
     ]
    },
    {
     "data": {
      "text/html": [
       "<div>\n",
       "<style scoped>\n",
       "    .dataframe tbody tr th:only-of-type {\n",
       "        vertical-align: middle;\n",
       "    }\n",
       "\n",
       "    .dataframe tbody tr th {\n",
       "        vertical-align: top;\n",
       "    }\n",
       "\n",
       "    .dataframe thead th {\n",
       "        text-align: right;\n",
       "    }\n",
       "</style>\n",
       "<table border=\"1\" class=\"dataframe\">\n",
       "  <thead>\n",
       "    <tr style=\"text-align: right;\">\n",
       "      <th></th>\n",
       "      <th>CustomerID</th>\n",
       "      <th>ProductCategory</th>\n",
       "      <th>PurchaseAmount</th>\n",
       "      <th>DiscountApplied</th>\n",
       "      <th>PaymentMethod</th>\n",
       "      <th>CustomerFeedback</th>\n",
       "      <th>PurchaseCategory</th>\n",
       "    </tr>\n",
       "  </thead>\n",
       "  <tbody>\n",
       "    <tr>\n",
       "      <th>0</th>\n",
       "      <td>CUST001</td>\n",
       "      <td>grocery</td>\n",
       "      <td>432.84</td>\n",
       "      <td>0.0</td>\n",
       "      <td>Credit Card</td>\n",
       "      <td>5</td>\n",
       "      <td>Medium</td>\n",
       "    </tr>\n",
       "    <tr>\n",
       "      <th>1</th>\n",
       "      <td>CUST002</td>\n",
       "      <td>beauty</td>\n",
       "      <td>432.84</td>\n",
       "      <td>0.0</td>\n",
       "      <td>Unknown</td>\n",
       "      <td>3</td>\n",
       "      <td>Medium</td>\n",
       "    </tr>\n",
       "    <tr>\n",
       "      <th>2</th>\n",
       "      <td>CUST003</td>\n",
       "      <td>electronics</td>\n",
       "      <td>940.10</td>\n",
       "      <td>20.0</td>\n",
       "      <td>Cash</td>\n",
       "      <td>1</td>\n",
       "      <td>High</td>\n",
       "    </tr>\n",
       "    <tr>\n",
       "      <th>4</th>\n",
       "      <td>CUST004</td>\n",
       "      <td>grocery</td>\n",
       "      <td>432.84</td>\n",
       "      <td>10.0</td>\n",
       "      <td>Unknown</td>\n",
       "      <td>2</td>\n",
       "      <td>Medium</td>\n",
       "    </tr>\n",
       "    <tr>\n",
       "      <th>6</th>\n",
       "      <td>CUST006</td>\n",
       "      <td>beauty</td>\n",
       "      <td>922.66</td>\n",
       "      <td>30.0</td>\n",
       "      <td>Unknown</td>\n",
       "      <td>5</td>\n",
       "      <td>High</td>\n",
       "    </tr>\n",
       "  </tbody>\n",
       "</table>\n",
       "</div>"
      ],
      "text/plain": [
       "  CustomerID ProductCategory  PurchaseAmount  DiscountApplied PaymentMethod   \n",
       "0    CUST001         grocery          432.84              0.0   Credit Card  \\\n",
       "1    CUST002          beauty          432.84              0.0       Unknown   \n",
       "2    CUST003     electronics          940.10             20.0          Cash   \n",
       "4    CUST004         grocery          432.84             10.0       Unknown   \n",
       "6    CUST006          beauty          922.66             30.0       Unknown   \n",
       "\n",
       "   CustomerFeedback PurchaseCategory  \n",
       "0                 5           Medium  \n",
       "1                 3           Medium  \n",
       "2                 1             High  \n",
       "4                 2           Medium  \n",
       "6                 5             High  "
      ]
     },
     "metadata": {},
     "output_type": "display_data"
    }
   ],
   "source": [
    "# Bin PurchaseAmount into categories: Low, Medium, High\n",
    "bins = [0, 100, 500, 1000]\n",
    "labels = ['Low', 'Medium', 'High']\n",
    "df['PurchaseCategory'] = pd.cut(df['PurchaseAmount'], bins=bins, labels=labels)\n",
    "\n",
    "print(\"Dataset after binning PurchaseAmount:\")\n",
    "display(df.head())\n",
    "\n"
   ]
  },
  {
   "cell_type": "markdown",
   "metadata": {},
   "source": [
    "## Step 10: Saving dataset"
   ]
  },
  {
   "cell_type": "code",
   "execution_count": 12,
   "metadata": {},
   "outputs": [
    {
     "name": "stdout",
     "output_type": "stream",
     "text": [
      "\n",
      "Cleaned dataset saved to retail_cleaned_dataset.csv\n"
     ]
    }
   ],
   "source": [
    "# Save the cleaned dataset for further use\n",
    "cleaned_file_path = 'retail_cleaned_dataset.csv'\n",
    "df.to_csv(cleaned_file_path, index=False)\n",
    "print(f\"\\nCleaned dataset saved to {cleaned_file_path}\")"
   ]
  }
 ],
 "metadata": {
  "kernelspec": {
   "display_name": "Python 3",
   "language": "python",
   "name": "python3"
  },
  "language_info": {
   "codemirror_mode": {
    "name": "ipython",
    "version": 3
   },
   "file_extension": ".py",
   "mimetype": "text/x-python",
   "name": "python",
   "nbconvert_exporter": "python",
   "pygments_lexer": "ipython3",
   "version": "3.11.0"
  }
 },
 "nbformat": 4,
 "nbformat_minor": 2
}
